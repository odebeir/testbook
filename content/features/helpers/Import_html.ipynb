{
 "cells": [
  {
   "cell_type": "code",
   "execution_count": 2,
   "metadata": {},
   "outputs": [],
   "source": [
    "from selenium import webdriver\n",
    "from selenium.webdriver.common.keys import Keys"
   ]
  },
  {
   "cell_type": "markdown",
   "metadata": {},
   "source": [
    "# Example\n",
    "```python\n",
    "with webdriver.Firefox() as driver:\n",
    "    driver.get(\"http://www.python.org\")\n",
    "    assert \"Python\" in driver.title\n",
    "    elem = driver.find_element_by_name(\"q\")\n",
    "    elem.clear()\n",
    "    elem.send_keys(\"pycon\")\n",
    "    elem.send_keys(Keys.RETURN)\n",
    "    assert \"No results found.\" not in driver.page_source\n",
    "    driver.close()\n",
    "```"
   ]
  },
  {
   "cell_type": "code",
   "execution_count": 23,
   "metadata": {},
   "outputs": [
    {
     "name": "stdout",
     "output_type": "stream",
     "text": [
      "Histogram based segmentation\n"
     ]
    }
   ],
   "source": [
    "# extract html code from the given URL\n",
    "path = \"file:///home/olivier/Downloads/Digital image.html\"\n",
    "path = \"file:///home/olivier/workspace/testbook/_build/features/01-Introduction/03-Digital_image.html\"\n",
    "path = \"http://homepages.ulb.ac.be/~odebeir/_site/features/04-Image_segmentation/01-Histogram_based_image_segmentation.html\"\n",
    "\n",
    "with webdriver.Firefox() as driver:\n",
    "    driver.get(path)\n",
    "    print(driver.title)\n",
    "#    assert \"Digital image\" in driver.title\n",
    "    source = driver.page_source\n",
    "    driver.close()\n",
    "    "
   ]
  },
  {
   "cell_type": "code",
   "execution_count": 21,
   "metadata": {},
   "outputs": [],
   "source": [
    "# save html to local .txt file\n",
    "with open('source.html','wt') as fid:\n",
    "    fid.write(source)\n",
    "    fid.close()"
   ]
  },
  {
   "cell_type": "code",
   "execution_count": null,
   "metadata": {},
   "outputs": [],
   "source": []
  }
 ],
 "metadata": {
  "kernelspec": {
   "display_name": "Python 3",
   "language": "python",
   "name": "python3"
  },
  "language_info": {
   "codemirror_mode": {
    "name": "ipython",
    "version": 3
   },
   "file_extension": ".py",
   "mimetype": "text/x-python",
   "name": "python",
   "nbconvert_exporter": "python",
   "pygments_lexer": "ipython3",
   "version": "3.7.3"
  }
 },
 "nbformat": 4,
 "nbformat_minor": 2
}
